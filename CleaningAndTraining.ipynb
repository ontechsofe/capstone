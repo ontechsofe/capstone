{
 "cells": [
  {
   "cell_type": "code",
   "execution_count": 1,
   "metadata": {},
   "outputs": [],
   "source": [
    "from __future__ import absolute_import, division, print_function, unicode_literals\n",
    "\n",
    "import os\n",
    "\n",
    "import tensorflow as tf\n",
    "\n",
    "from tensorflow.keras import datasets\n",
    "from tensorflow.keras.models import Sequential, load_model\n",
    "from tensorflow.keras.layers import Conv2D, MaxPooling2D, Flatten, Dense, BatchNormalization, Dropout\n",
    "from tensorflow.keras.utils import to_categorical, plot_model\n",
    "\n",
    "import matplotlib.pyplot as plt\n",
    "\n",
    "from pandas import read_csv, DataFrame\n",
    "\n",
    "from base64 import b64decode\n",
    "from numpy import array, random, uint8, float64, ndarray, asarray, expand_dims, bincount\n",
    "from PIL import Image\n",
    "from io import BytesIO"
   ]
  },
  {
   "cell_type": "code",
   "execution_count": 30,
   "metadata": {},
   "outputs": [],
   "source": [
    "dataset = 'hungry3'\n",
    "df = DataFrame()\n",
    "for root, dirs, files in os.walk(f'data/{dataset}/'):\n",
    "    df = read_csv(f\"data/{dataset}/{files[0]}\")[['data', 'label']]\n",
    "    for filename in files[1:]:\n",
    "        df = df.append(read_csv(f\"data/{dataset}/{filename}\")[['data', 'label']], ignore_index=True)"
   ]
  },
  {
   "cell_type": "code",
   "execution_count": 31,
   "metadata": {},
   "outputs": [
    {
     "data": {
      "text/plain": [
       "(2500, 2)"
      ]
     },
     "execution_count": 31,
     "metadata": {},
     "output_type": "execute_result"
    }
   ],
   "source": [
    "df['data'] = [array(Image.open(BytesIO(b64decode(x)))) for x in df['data']]\n",
    "print(set(df['label']))\n",
    "df['label'] = [0 if x == 'NOR' else 1 for x in df['label']]\n",
    "df = df.sample(frac=1).reset_index(drop=True)\n",
    "df.shape"
   ]
  },
  {
   "cell_type": "code",
   "execution_count": 32,
   "metadata": {},
   "outputs": [
    {
     "data": {
      "text/plain": [
       "array([[[0.37647059, 0.68235294, 0.29411765],\n",
       "        [0.29019608, 0.48627451, 0.18431373],\n",
       "        [0.10588235, 0.91764706, 0.21176471],\n",
       "        ...,\n",
       "        [1.        , 1.        , 1.        ],\n",
       "        [0.78039216, 0.41960784, 0.84705882],\n",
       "        [0.58039216, 0.63137255, 0.22352941]],\n",
       "\n",
       "       [[0.37647059, 0.68235294, 0.29411765],\n",
       "        [0.29019608, 0.48627451, 0.18431373],\n",
       "        [0.10588235, 0.91764706, 0.21176471],\n",
       "        ...,\n",
       "        [1.        , 1.        , 1.        ],\n",
       "        [0.78039216, 0.41960784, 0.84705882],\n",
       "        [0.58039216, 0.63137255, 0.22352941]],\n",
       "\n",
       "       [[0.37647059, 0.68235294, 0.29411765],\n",
       "        [0.29019608, 0.48627451, 0.18431373],\n",
       "        [0.10588235, 0.91764706, 0.21176471],\n",
       "        ...,\n",
       "        [1.        , 1.        , 1.        ],\n",
       "        [0.78039216, 0.41960784, 0.84705882],\n",
       "        [0.58039216, 0.63137255, 0.22352941]],\n",
       "\n",
       "       ...,\n",
       "\n",
       "       [[0.27058824, 0.37254902, 0.31764706],\n",
       "        [0.1254902 , 0.63529412, 0.64313725],\n",
       "        [0.43529412, 0.10196078, 0.30196078],\n",
       "        ...,\n",
       "        [0.56862745, 0.70196078, 0.13333333],\n",
       "        [0.21568627, 0.01568627, 0.18823529],\n",
       "        [0.59215686, 0.6745098 , 0.5372549 ]],\n",
       "\n",
       "       [[0.27058824, 0.37254902, 0.31764706],\n",
       "        [0.1254902 , 0.63529412, 0.64313725],\n",
       "        [0.43529412, 0.10196078, 0.30196078],\n",
       "        ...,\n",
       "        [0.56862745, 0.70196078, 0.13333333],\n",
       "        [0.21568627, 0.01568627, 0.18823529],\n",
       "        [0.59215686, 0.6745098 , 0.5372549 ]],\n",
       "\n",
       "       [[0.27058824, 0.37254902, 0.31764706],\n",
       "        [0.1254902 , 0.63529412, 0.64313725],\n",
       "        [0.43529412, 0.10196078, 0.30196078],\n",
       "        ...,\n",
       "        [0.56862745, 0.70196078, 0.13333333],\n",
       "        [0.21568627, 0.01568627, 0.18823529],\n",
       "        [0.59215686, 0.6745098 , 0.5372549 ]]])"
      ]
     },
     "execution_count": 32,
     "metadata": {},
     "output_type": "execute_result"
    }
   ],
   "source": [
    "array([array([y[:-1]/255 for y in x]) for x in df['data'][0]])"
   ]
  },
  {
   "cell_type": "code",
   "execution_count": 33,
   "metadata": {},
   "outputs": [],
   "source": [
    "df_reshaped = df.copy()\n",
    "data = array([array([y[:, :-1]/255 for y in x]) for x in df_reshaped['data']])\n",
    "labels = array([array([x], dtype=uint8) for x in df_reshaped['label']])"
   ]
  },
  {
   "cell_type": "code",
   "execution_count": 34,
   "metadata": {},
   "outputs": [],
   "source": [
    "row_split = int(len(df) * 0.8)\n",
    "train_data = data[0:row_split]\n",
    "test_data = data[row_split:]\n",
    "train_labels = labels[0:row_split]\n",
    "test_labels = labels[row_split:]"
   ]
  },
  {
   "cell_type": "code",
   "execution_count": 35,
   "metadata": {},
   "outputs": [
    {
     "name": "stdout",
     "output_type": "stream",
     "text": [
      "(2000, 320, 320, 3)\n",
      "(500, 320, 320, 3)\n",
      "(2000, 1)\n",
      "(500, 1)\n"
     ]
    }
   ],
   "source": [
    "print(train_data.shape)\n",
    "print(test_data.shape)\n",
    "print(train_labels.shape)\n",
    "print(test_labels.shape)"
   ]
  },
  {
   "cell_type": "code",
   "execution_count": 36,
   "metadata": {},
   "outputs": [],
   "source": [
    "# # Initialising the CNN\n",
    "# model = Sequential()\n",
    "\n",
    "# # Step 1 - Convolution\n",
    "# model.add(Conv2D(32, (3, 3), input_shape=(320, 320, 3), activation='relu'))\n",
    "\n",
    "# # Step 2 - Pooling\n",
    "# model.add(MaxPooling2D(pool_size=(2, 2)))\n",
    "\n",
    "# # Adding a second convolutional layer\n",
    "# model.add(Conv2D(64, (3, 3), activation='relu'))\n",
    "# model.add(MaxPooling2D(pool_size=(2, 2)))\n",
    "\n",
    "# # Adding a third convolutional layer\n",
    "# model.add(Conv2D(64, (3, 3), activation='relu'))\n",
    "# model.add(MaxPooling2D(pool_size = (2, 2)))\n",
    "\n",
    "# # Adding a fourth convolutional layer\n",
    "# model.add(Conv2D(128, (3, 3), activation='relu'))\n",
    "# model.add(MaxPooling2D(pool_size=(2, 2)))\n",
    "\n",
    "# # Step 3 - Flattening\n",
    "# model.add(Flatten())\n",
    "\n",
    "# # Step 4 - Full connection\n",
    "# model.add(Dense(units=64, activation='relu'))\n",
    "# model.add(Dense(units=2, activation='sigmoid'))\n",
    "\n",
    "# # Compiling the CNN\n",
    "# model.compile(optimizer='adam', loss='sparse_categorical_crossentropy', metrics = ['accuracy'])"
   ]
  },
  {
   "cell_type": "code",
   "execution_count": 37,
   "metadata": {},
   "outputs": [],
   "source": [
    "# model = Sequential()\n",
    "# model.add(Conv2D(32, kernel_size = (3, 3), activation='relu', input_shape=(320, 320, 3)))\n",
    "# model.add(MaxPooling2D(pool_size=(2,2)))\n",
    "# model.add(BatchNormalization())\n",
    "# model.add(Conv2D(64, kernel_size=(3,3), activation='relu'))\n",
    "# model.add(MaxPooling2D(pool_size=(2,2)))\n",
    "# model.add(BatchNormalization())\n",
    "# model.add(Conv2D(64, kernel_size=(3,3), activation='relu'))\n",
    "# model.add(MaxPooling2D(pool_size=(2,2)))\n",
    "# model.add(BatchNormalization())\n",
    "# model.add(Conv2D(96, kernel_size=(3,3), activation='relu'))\n",
    "# model.add(MaxPooling2D(pool_size=(2,2)))\n",
    "# model.add(BatchNormalization())\n",
    "# model.add(Conv2D(32, kernel_size=(3,3), activation='relu'))\n",
    "# model.add(MaxPooling2D(pool_size=(2,2)))\n",
    "# model.add(BatchNormalization())\n",
    "# model.add(Dropout(0.2))\n",
    "# model.add(Flatten())\n",
    "# model.add(Dense(128, activation='relu'))\n",
    "# #model.add(Dropout(0.3))\n",
    "# model.add(Dense(2, activation = 'softmax'))\n",
    "\n",
    "# THIS WAS BEST SO FAR\n",
    "model = Sequential([\n",
    "    Conv2D(16, 3, padding='same', activation='relu', input_shape=(320, 320 ,3)),\n",
    "    MaxPooling2D(),\n",
    "    Conv2D(32, 3, padding='same', activation='relu'),\n",
    "    MaxPooling2D(),\n",
    "    Conv2D(64, 3, padding='same', activation='relu'),\n",
    "    MaxPooling2D(),\n",
    "    Flatten(),\n",
    "    Dense(32, activation='relu'),\n",
    "    Dense(1, activation='sigmoid')\n",
    "])\n",
    "\n",
    "# model = Sequential([\n",
    "#     Conv2D(8, 3, padding='same', activation='relu', input_shape=(320, 320 ,3)),\n",
    "#     MaxPooling2D(),\n",
    "#     Conv2D(16, 3, padding='same', activation='relu'),\n",
    "#     MaxPooling2D(),\n",
    "#     Conv2D(32, 3, padding='same', activation='relu'),\n",
    "#     MaxPooling2D(),\n",
    "#     Flatten(),\n",
    "#     Dense(32, activation='relu'),\n",
    "#     Dense(1, activation='sigmoid')\n",
    "# ])\n",
    "\n",
    "model.compile(optimizer='adam',\n",
    "              loss='binary_crossentropy',\n",
    "              metrics=['accuracy'])"
   ]
  },
  {
   "cell_type": "code",
   "execution_count": 38,
   "metadata": {},
   "outputs": [],
   "source": [
    "y_binary_train_labels = to_categorical(train_labels)\n",
    "y_binary_test_labels = to_categorical(test_labels)"
   ]
  },
  {
   "cell_type": "code",
   "execution_count": 39,
   "metadata": {},
   "outputs": [
    {
     "name": "stdout",
     "output_type": "stream",
     "text": [
      "Train on 2000 samples, validate on 500 samples\n",
      "Epoch 1/10\n",
      "2000/2000 [==============================] - 105s 53ms/sample - loss: 0.6046 - accuracy: 0.6965 - val_loss: 0.4009 - val_accuracy: 0.8400\n",
      "Epoch 2/10\n",
      "2000/2000 [==============================] - 96s 48ms/sample - loss: 0.3173 - accuracy: 0.8670 - val_loss: 0.2999 - val_accuracy: 0.8920\n",
      "Epoch 3/10\n",
      "2000/2000 [==============================] - 111s 55ms/sample - loss: 0.1944 - accuracy: 0.9325 - val_loss: 0.2253 - val_accuracy: 0.9100\n",
      "Epoch 4/10\n",
      "2000/2000 [==============================] - 105s 53ms/sample - loss: 0.1208 - accuracy: 0.9535 - val_loss: 0.2565 - val_accuracy: 0.9240\n",
      "Epoch 5/10\n",
      "2000/2000 [==============================] - 105s 53ms/sample - loss: 0.0835 - accuracy: 0.9705 - val_loss: 0.2104 - val_accuracy: 0.9420\n",
      "Epoch 6/10\n",
      "2000/2000 [==============================] - 106s 53ms/sample - loss: 0.0617 - accuracy: 0.9780 - val_loss: 0.1222 - val_accuracy: 0.9660\n",
      "Epoch 7/10\n",
      "2000/2000 [==============================] - 109s 54ms/sample - loss: 0.0337 - accuracy: 0.9875 - val_loss: 0.1460 - val_accuracy: 0.9660\n",
      "Epoch 8/10\n",
      "2000/2000 [==============================] - 101s 50ms/sample - loss: 0.0114 - accuracy: 0.9975 - val_loss: 0.2253 - val_accuracy: 0.9600\n",
      "Epoch 9/10\n",
      "2000/2000 [==============================] - 112s 56ms/sample - loss: 0.0214 - accuracy: 0.9935 - val_loss: 0.1568 - val_accuracy: 0.9640\n",
      "Epoch 10/10\n",
      "2000/2000 [==============================] - 109s 55ms/sample - loss: 0.0364 - accuracy: 0.9890 - val_loss: 0.2173 - val_accuracy: 0.9600\n"
     ]
    }
   ],
   "source": [
    "try:\n",
    "    history = model.fit(train_data, train_labels, epochs=10, \n",
    "                    validation_data=(test_data, test_labels))\n",
    "except Exception as e:\n",
    "    print(e)\n",
    "    history = model.fit(train_data, y_binary_train_labels, epochs=15, \n",
    "                    validation_data=(test_data, y_binary_test_labels))"
   ]
  },
  {
   "cell_type": "code",
   "execution_count": 40,
   "metadata": {},
   "outputs": [
    {
     "name": "stdout",
     "output_type": "stream",
     "text": [
      "500/1 - 7s - loss: 0.1559 - accuracy: 0.9600\n"
     ]
    },
    {
     "data": {
      "image/png": "[encoded data removed]",
      "text/plain": [
       "<Figure size 432x288 with 1 Axes>"
      ]
     },
     "metadata": {
      "needs_background": "light"
     },
     "output_type": "display_data"
    }
   ],
   "source": [
    "plt.plot(history.history['accuracy'], label='accuracy')\n",
    "plt.plot(history.history['val_accuracy'], label = 'val_accuracy')\n",
    "plt.xlabel('Epoch')\n",
    "plt.ylabel('Accuracy')\n",
    "plt.ylim([0.5, 1]) \n",
    "plt.legend(loc='lower right')\n",
    "\n",
    "test_loss, test_acc = model.evaluate(test_data,  test_labels, verbose=2)"
   ]
  },
  {
   "cell_type": "code",
   "execution_count": 41,
   "metadata": {},
   "outputs": [
    {
     "name": "stdout",
     "output_type": "stream",
     "text": [
      "0.21730942928791047\n",
      "0.96\n"
     ]
    }
   ],
   "source": [
    "print(test_loss)\n",
    "print(test_acc)"
   ]
  },
  {
   "cell_type": "code",
   "execution_count": 42,
   "metadata": {},
   "outputs": [],
   "source": [
    "model.save(f\"models/{dataset}/hungry-96VA-21VL.h5\")"
   ]
  },
  {
   "cell_type": "code",
   "execution_count": null,
   "metadata": {},
   "outputs": [],
   "source": [
    "model2 = load_model(f\"models/{dataset}/temperature-97VA-00VL.h5\")"
   ]
  },
  {
   "cell_type": "code",
   "execution_count": null,
   "metadata": {},
   "outputs": [],
   "source": [
    "test_loss, test_acc = model2.evaluate(test_data,  test_labels, verbose=2)\n",
    "print(test_loss)\n",
    "print(test_acc)"
   ]
  },
  {
   "cell_type": "code",
   "execution_count": null,
   "metadata": {},
   "outputs": [],
   "source": [
    "model2.summary()"
   ]
  },
  {
   "cell_type": "code",
   "execution_count": null,
   "metadata": {},
   "outputs": [],
   "source": [
    "model.summary()"
   ]
  },
  {
   "cell_type": "code",
   "execution_count": 43,
   "metadata": {},
   "outputs": [
    {
     "data": {
      "text/plain": [
       "0       0\n",
       "1       1\n",
       "2       0\n",
       "3       1\n",
       "4       1\n",
       "       ..\n",
       "2495    1\n",
       "2496    1\n",
       "2497    0\n",
       "2498    1\n",
       "2499    0\n",
       "Name: label, Length: 2500, dtype: int64"
      ]
     },
     "execution_count": 43,
     "metadata": {},
     "output_type": "execute_result"
    }
   ],
   "source": [
    "df['label']"
   ]
  },
  {
   "cell_type": "code",
   "execution_count": null,
   "metadata": {},
   "outputs": [],
   "source": [
    "\n",
    "prediction = model2.predict(array([train_data[6]]))[0][0]\n",
    "prediction"
   ]
  },
  {
   "cell_type": "code",
   "execution_count": null,
   "metadata": {},
   "outputs": [],
   "source": [
    "train_labels[6]"
   ]
  },
  {
   "cell_type": "code",
   "execution_count": null,
   "metadata": {},
   "outputs": [],
   "source": [
    "model2 = load_model(\"models/hungry/hunger-83VA-52VL.h5\")\n",
    "plot_model(model2, to_file='hunger_model.png')"
   ]
  },
  {
   "cell_type": "code",
   "execution_count": null,
   "metadata": {},
   "outputs": [],
   "source": [
    "model2.summary()"
   ]
  },
  {
   "cell_type": "code",
   "execution_count": null,
   "metadata": {},
   "outputs": [],
   "source": []
  }
 ],
 "metadata": {
  "kernelspec": {
   "display_name": "Python 3",
   "language": "python",
   "name": "python3"
  },
  "language_info": {
   "codemirror_mode": {
    "name": "ipython",
    "version": 3
   },
   "file_extension": ".py",
   "mimetype": "text/x-python",
   "name": "python",
   "nbconvert_exporter": "python",
   "pygments_lexer": "ipython3",
   "version": "3.7.6"
  }
 },
 "nbformat": 4,
 "nbformat_minor": 4
}
